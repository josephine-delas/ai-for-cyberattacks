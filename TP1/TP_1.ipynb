{
 "cells": [
  {
   "attachments": {},
   "cell_type": "markdown",
   "metadata": {},
   "source": [
    "# TP 1 -  AI for OSINT"
   ]
  },
  {
   "attachments": {},
   "cell_type": "markdown",
   "metadata": {},
   "source": [
    "De nombreuse informations sur un profil sont aujourd'hui disponibles sur internet grâce aux réseaux sociaux. Ces informations peuvent permettre à un potentiel attaquant d'identifier les cibles les plus pertinentes pour lancer une attaque de spear phishing ou faire du social engineering.\n",
    "\n",
    "Cependant, l'investigation en ligne (OSINT) est coûteuse en temps humain : les cibles sont de plus en plus nombreuses et la quantité d'information disponible explose. Les méthodes d'IA permettent aux attaquants d'automatiser cette première phase de reconnaissance"
   ]
  },
  {
   "attachments": {},
   "cell_type": "markdown",
   "metadata": {},
   "source": [
    "# *Clustering Twitter Users*"
   ]
  },
  {
   "attachments": {},
   "cell_type": "markdown",
   "metadata": {},
   "source": [
    "Pour trouver les cibles les plus susceptible de mordre à l'hameçon, la première étape de la pipeline consiste en un algorithme de clustering qui place un utilisateur donné dans la catégorie \"High Value Target\" ou non. \n",
    "\n",
    "Dans ce TP, nous allons nous intéresser aux jeux olympiques de Tokyo 2020."
   ]
  },
  {
   "attachments": {},
   "cell_type": "markdown",
   "metadata": {},
   "source": [
    "## Outline"
   ]
  },
  {
   "attachments": {},
   "cell_type": "markdown",
   "metadata": {},
   "source": [
    "Ce TP est divisé en 5 tâches,  : \n",
    "- Récupérer et comprendre les données utilisées\n",
    "- Définir les caractéristiques à extraire (feature engineering)\n",
    "- Sélection et paramétrisation d'un modèle\n",
    "- Évaluation des performances\n",
    "- Itération des modèles"
   ]
  },
  {
   "attachments": {},
   "cell_type": "markdown",
   "metadata": {},
   "source": [
    "## Mise en place de l'environnement"
   ]
  },
  {
   "attachments": {},
   "cell_type": "markdown",
   "metadata": {},
   "source": [
    "Avant de commencer, commencez par créer et activer un environnement virtuel Python qui servira pour ce TP :\n",
    "```\n",
    "$ python3 -m venv .venv\n",
    "$ source .venv/bin/activate\n",
    "```"
   ]
  },
  {
   "attachments": {},
   "cell_type": "markdown",
   "metadata": {},
   "source": [
    "Installez ensuite les dépendances nécessaire :\n",
    "````\n",
    "$ pip install -r requirements.py\n",
    "````\n"
   ]
  },
  {
   "attachments": {},
   "cell_type": "markdown",
   "metadata": {},
   "source": [
    "Définissez l'environnement virtuel comme kernel jupiter, puis exécutez la cellul suivante pour importer les librairies qui nous seront utiles."
   ]
  },
  {
   "cell_type": "code",
   "execution_count": 1,
   "metadata": {},
   "outputs": [],
   "source": [
    "import os\n",
    "import csv"
   ]
  },
  {
   "attachments": {},
   "cell_type": "markdown",
   "metadata": {},
   "source": [
    "## Récupération et compréhension des données"
   ]
  },
  {
   "attachments": {},
   "cell_type": "markdown",
   "metadata": {},
   "source": [
    "Nous allons travailler avec des données plubliquement accessibles sur Twitter. \n",
    "\n",
    "Nous verrons dans un premier temps comment mettre en place un client pour requêter l'API de twitter et récupérer nous-même les données. \n",
    "\n",
    "Ensuite, nous utiliserons un jeu de données déjà construit, sur les JO de Tokyo. Elles ont été collectées à l'aide de la librairie tweepy pour accéder à l'API de Twitter, en utilisant hashtag pertinent pour le sujet (#Tokyo2020)"
   ]
  },
  {
   "attachments": {},
   "cell_type": "markdown",
   "metadata": {},
   "source": [
    "### Mise en place du client"
   ]
  },
  {
   "attachments": {},
   "cell_type": "markdown",
   "metadata": {},
   "source": [
    "Vous pouvez créer un compte Twitter, et remplir ci-dessous vos credentials. "
   ]
  },
  {
   "cell_type": "code",
   "execution_count": 4,
   "metadata": {},
   "outputs": [],
   "source": [
    "from twikit.client import Client\n",
    "\n",
    "client = Client(language='en-US')\n",
    "client.login(auth_info_1='username',\n",
    "             password='pwd')\n",
    "client.save_cookies('cookies.json')\n"
   ]
  },
  {
   "cell_type": "code",
   "execution_count": null,
   "metadata": {},
   "outputs": [],
   "source": [
    "client.load_cookies(path='cookies.json')\n",
    "user = client.get_user_by_screen_name()\n",
    "print(user.name)\n"
   ]
  },
  {
   "attachments": {},
   "cell_type": "markdown",
   "metadata": {},
   "source": [
    "### Récupération des données"
   ]
  },
  {
   "attachments": {},
   "cell_type": "markdown",
   "metadata": {},
   "source": [
    "1. Définir une requête pertinente pour les données qui nous intéressent, et utiliser les mots-clés `since:YYYY-MM-DD` et `until:YYYY-MM-DD` pour cadrer la date."
   ]
  },
  {
   "cell_type": "code",
   "execution_count": 2,
   "metadata": {},
   "outputs": [],
   "source": [
    "query = 'Tokyo2020 since:2020-07-23 until:2020-08-08'"
   ]
  },
  {
   "attachments": {},
   "cell_type": "markdown",
   "metadata": {},
   "source": [
    "2. Écrire une fonction `get_tweets` qui permette de récupérer les tweets correspondant à la requête définie ci-dessus, et de sauvegarder les informations qui nous intéressent dans un fichier csv local. On limitera ici le nombre de tweets téléchargés à 500.\n",
    "    \n",
    "    *Indice : utilisez la fonction `client.search_tweets()`de `twikit` pour requêter l'API. Explorez dans un premier temps les métadonnées qui peuvent être disponibles pour un tweet*\n",
    "\n",
    "    Attention ! L'API a une rate-limit de 500 tweets toutes les 15 minutes"
   ]
  },
  {
   "cell_type": "code",
   "execution_count": null,
   "metadata": {},
   "outputs": [],
   "source": [
    "tweet = client.search_tweet(query = query, product='Top', count=10)"
   ]
  },
  {
   "cell_type": "code",
   "execution_count": null,
   "metadata": {},
   "outputs": [],
   "source": [
    "filepath=os.path.join('data', 'twikit_tokyo_2020_tweets.csv')\n",
    "\n",
    "columns = ['id', 'user_name', 'user_location', 'user_description', 'user_created', \n",
    "           'user_followers', 'user_verified',\n",
    "           'date','text','hashtags','retweets','favorites','is_retweet'\n",
    "]\n",
    "\n",
    "def get_tweets(client, query, filepath=filepath, max_results=50):\n",
    "    tweets = [] \n",
    "    results = client.search_tweet(query = query, product='Top', count=max_results)\n",
    "    tweets+=results\n",
    "    while True:\n",
    "        tweets += results.next()\n",
    "        print(len(tweets))\n",
    "        if len(tweets)>= max_results:\n",
    "            break\n",
    "    print(len(tweets))\n",
    "    with open(filepath, 'w', newline='') as f:\n",
    "        writer = csv.writer(f, delimiter = ',')\n",
    "        writer.writerow(columns)\n",
    "        for tweet in tweets:\n",
    "            writer.writerow([tweet.id, tweet.user.name, tweet.user.location, tweet.user.description,\n",
    "                            tweet.user.created_at, tweet.user.followers_count,\n",
    "                            tweet.user.verified, tweet.created_at, tweet.text, tweet.hashtags, \n",
    "                            tweet.retweet_count, tweet.favorite_count, tweet.retweeted_tweet])\n",
    "\n",
    "    return "
   ]
  },
  {
   "attachments": {},
   "cell_type": "markdown",
   "metadata": {},
   "source": [
    "3. Utiliser `get_tweets()`pour récupérer les tweets qui nous intéressent, et vérifier brièvement que les résultats correspondent à nos attentes."
   ]
  },
  {
   "cell_type": "code",
   "execution_count": null,
   "metadata": {},
   "outputs": [],
   "source": [
    "client.load_cookies(path='cookies.json')\n",
    "tweets = get_tweets(client, query)"
   ]
  },
  {
   "cell_type": "code",
   "execution_count": null,
   "metadata": {},
   "outputs": [],
   "source": [
    "len(tweets)"
   ]
  },
  {
   "cell_type": "code",
   "execution_count": null,
   "metadata": {},
   "outputs": [],
   "source": [
    "tweets[0].text"
   ]
  },
  {
   "attachments": {},
   "cell_type": "markdown",
   "metadata": {},
   "source": [
    "Pour aller plus vite, dans la suite du TD, nous utiliserons tous le même jeu de données sur les JO de Tokyo en 2020.\n",
    "Le fichier CSV contenant les colonnes qui nous intéresse est disponible dans le dossier `data`."
   ]
  },
  {
   "attachments": {},
   "cell_type": "markdown",
   "metadata": {},
   "source": [
    "### Visualisation des données"
   ]
  },
  {
   "attachments": {},
   "cell_type": "markdown",
   "metadata": {},
   "source": [
    "Maintenant que nous avons collecté les données, il est important de les connaître et de les comprendre : sont-elles pertinentes ? Y a-t-il du bruit ? Peut-on le filtrer ? Toutes ces questions nécessitent un inspection minutieuse des résultats obtenus. "
   ]
  },
  {
   "attachments": {},
   "cell_type": "markdown",
   "metadata": {},
   "source": [
    "3. La bibliothèque la plus couramment utilisée pour le traitement de données en Data Science est `pandas`(ref to pandas). Utiliser cet outil pour créer un dataframe contenant les colonnes `'date'`, `'text'` et `'user_name'`.  \n",
    "    \n",
    "    *Indice : la fonction `to_datetime()` est utile pour manipuler plus facilement les données temporelles*"
   ]
  },
  {
   "cell_type": "code",
   "execution_count": 10,
   "metadata": {},
   "outputs": [],
   "source": [
    "import pandas as pd"
   ]
  },
  {
   "cell_type": "code",
   "execution_count": 11,
   "metadata": {},
   "outputs": [],
   "source": [
    "def tweets_to_df():\n",
    "    \"\"\"Helper func to extract specific tweet features into a dataframe.\"\"\"\n",
    "    tweet_df = pd.read_csv('data/tokyo_2020_tweets.csv', on_bad_lines='warn')\n",
    "    \n",
    "    # creating a datetimeindex will allow us to do more timeseries manipulations\n",
    "    tweet_df['ts'] = pd.to_datetime(tweet_df['date'],errors='coerce') # skip bad date formatting\n",
    "    return tweet_df"
   ]
  },
  {
   "cell_type": "code",
   "execution_count": 12,
   "metadata": {},
   "outputs": [
    {
     "name": "stderr",
     "output_type": "stream",
     "text": [
      "/var/folders/p0/9k6hg6k13cscchw6zjjs14r80000gn/T/ipykernel_1884/4052242094.py:3: DtypeWarning: Columns (0,1,2,3,4,5,6,7,8,9,10,11,12,15) have mixed types. Specify dtype option on import or set low_memory=False.\n",
      "  tweet_df = pd.read_csv('data/tokyo_2020_tweets.csv', on_bad_lines='warn')\n"
     ]
    }
   ],
   "source": [
    "tweet_df = tweets_to_df()"
   ]
  },
  {
   "cell_type": "code",
   "execution_count": 8,
   "metadata": {},
   "outputs": [
    {
     "data": {
      "text/html": [
       "<div>\n",
       "<style scoped>\n",
       "    .dataframe tbody tr th:only-of-type {\n",
       "        vertical-align: middle;\n",
       "    }\n",
       "\n",
       "    .dataframe tbody tr th {\n",
       "        vertical-align: top;\n",
       "    }\n",
       "\n",
       "    .dataframe thead th {\n",
       "        text-align: right;\n",
       "    }\n",
       "</style>\n",
       "<table border=\"1\" class=\"dataframe\">\n",
       "  <thead>\n",
       "    <tr style=\"text-align: right;\">\n",
       "      <th></th>\n",
       "      <th>id</th>\n",
       "      <th>user_name</th>\n",
       "      <th>user_location</th>\n",
       "      <th>user_description</th>\n",
       "      <th>user_created</th>\n",
       "      <th>user_followers</th>\n",
       "      <th>user_friends</th>\n",
       "      <th>user_favourites</th>\n",
       "      <th>user_verified</th>\n",
       "      <th>date</th>\n",
       "      <th>text</th>\n",
       "      <th>hashtags</th>\n",
       "      <th>source</th>\n",
       "      <th>retweets</th>\n",
       "      <th>favorites</th>\n",
       "      <th>is_retweet</th>\n",
       "      <th>ts</th>\n",
       "    </tr>\n",
       "  </thead>\n",
       "  <tbody>\n",
       "    <tr>\n",
       "      <th>0</th>\n",
       "      <td>1418888645105356803</td>\n",
       "      <td>Abhishek Srivastav</td>\n",
       "      <td>Udupi, India</td>\n",
       "      <td>Trying to be mediocre in many things</td>\n",
       "      <td>2021-02-01 06:33:51</td>\n",
       "      <td>45.0</td>\n",
       "      <td>39.0</td>\n",
       "      <td>293.0</td>\n",
       "      <td>False</td>\n",
       "      <td>2021-07-24 10:59:49</td>\n",
       "      <td>Let the party begin\\n#Tokyo2020</td>\n",
       "      <td>['Tokyo2020']</td>\n",
       "      <td>Twitter for Android</td>\n",
       "      <td>0.0</td>\n",
       "      <td>0.0</td>\n",
       "      <td>False</td>\n",
       "      <td>2021-07-24 10:59:49</td>\n",
       "    </tr>\n",
       "    <tr>\n",
       "      <th>1</th>\n",
       "      <td>1418888377680678918</td>\n",
       "      <td>Saikhom Mirabai Channu🇮🇳</td>\n",
       "      <td>Manipur, India</td>\n",
       "      <td>Indian weightlifter 48 kg category. Champion🏆</td>\n",
       "      <td>2018-04-07 10:10:22</td>\n",
       "      <td>5235.0</td>\n",
       "      <td>5.0</td>\n",
       "      <td>2969.0</td>\n",
       "      <td>False</td>\n",
       "      <td>2021-07-24 10:58:45</td>\n",
       "      <td>Congratulations #Tokyo2020 https://t.co/8OFKMs...</td>\n",
       "      <td>['Tokyo2020']</td>\n",
       "      <td>Twitter for Android</td>\n",
       "      <td>0.0</td>\n",
       "      <td>0.0</td>\n",
       "      <td>False</td>\n",
       "      <td>2021-07-24 10:58:45</td>\n",
       "    </tr>\n",
       "    <tr>\n",
       "      <th>2</th>\n",
       "      <td>1418888260886073345</td>\n",
       "      <td>Big Breaking</td>\n",
       "      <td>Global</td>\n",
       "      <td>All breaking news related to Financial Market....</td>\n",
       "      <td>2021-05-29 08:51:25</td>\n",
       "      <td>3646.0</td>\n",
       "      <td>3.0</td>\n",
       "      <td>5.0</td>\n",
       "      <td>False</td>\n",
       "      <td>2021-07-24 10:58:17</td>\n",
       "      <td>Big Breaking Now \\n\\nTokyo Olympic Update \\n\\n...</td>\n",
       "      <td>NaN</td>\n",
       "      <td>Twitter for Android</td>\n",
       "      <td>0.0</td>\n",
       "      <td>1.0</td>\n",
       "      <td>False</td>\n",
       "      <td>2021-07-24 10:58:17</td>\n",
       "    </tr>\n",
       "    <tr>\n",
       "      <th>3</th>\n",
       "      <td>1418888172864299008</td>\n",
       "      <td>International Hockey Federation</td>\n",
       "      <td>Lausanne</td>\n",
       "      <td>Official International Hockey Federation Twitt...</td>\n",
       "      <td>2010-10-20 10:45:59</td>\n",
       "      <td>103975.0</td>\n",
       "      <td>2724.0</td>\n",
       "      <td>36554.0</td>\n",
       "      <td>True</td>\n",
       "      <td>2021-07-24 10:57:56</td>\n",
       "      <td>Q4: 🇬🇧3-1🇿🇦\\n\\nGreat Britain finally find a wa...</td>\n",
       "      <td>NaN</td>\n",
       "      <td>Twitter Web App</td>\n",
       "      <td>1.0</td>\n",
       "      <td>0.0</td>\n",
       "      <td>False</td>\n",
       "      <td>2021-07-24 10:57:56</td>\n",
       "    </tr>\n",
       "    <tr>\n",
       "      <th>4</th>\n",
       "      <td>1418886894478270464</td>\n",
       "      <td>Cameron Hart</td>\n",
       "      <td>Australia</td>\n",
       "      <td>Football &amp; Tennis Coach</td>\n",
       "      <td>2020-10-31 08:46:17</td>\n",
       "      <td>6.0</td>\n",
       "      <td>37.0</td>\n",
       "      <td>31.0</td>\n",
       "      <td>False</td>\n",
       "      <td>2021-07-24 10:52:51</td>\n",
       "      <td>All I can think of every time I watch the ring...</td>\n",
       "      <td>['Tokyo2020', 'ArtisticGymnastics', '7Olympics...</td>\n",
       "      <td>Twitter for iPhone</td>\n",
       "      <td>0.0</td>\n",
       "      <td>0.0</td>\n",
       "      <td>False</td>\n",
       "      <td>2021-07-24 10:52:51</td>\n",
       "    </tr>\n",
       "  </tbody>\n",
       "</table>\n",
       "</div>"
      ],
      "text/plain": [
       "                    id                        user_name   user_location  \\\n",
       "0  1418888645105356803               Abhishek Srivastav    Udupi, India   \n",
       "1  1418888377680678918         Saikhom Mirabai Channu🇮🇳  Manipur, India   \n",
       "2  1418888260886073345                     Big Breaking          Global   \n",
       "3  1418888172864299008  International Hockey Federation        Lausanne   \n",
       "4  1418886894478270464                     Cameron Hart       Australia   \n",
       "\n",
       "                                    user_description         user_created  \\\n",
       "0               Trying to be mediocre in many things  2021-02-01 06:33:51   \n",
       "1      Indian weightlifter 48 kg category. Champion🏆  2018-04-07 10:10:22   \n",
       "2  All breaking news related to Financial Market....  2021-05-29 08:51:25   \n",
       "3  Official International Hockey Federation Twitt...  2010-10-20 10:45:59   \n",
       "4                            Football & Tennis Coach  2020-10-31 08:46:17   \n",
       "\n",
       "  user_followers user_friends user_favourites user_verified  \\\n",
       "0           45.0         39.0           293.0         False   \n",
       "1         5235.0          5.0          2969.0         False   \n",
       "2         3646.0          3.0             5.0         False   \n",
       "3       103975.0       2724.0         36554.0          True   \n",
       "4            6.0         37.0            31.0         False   \n",
       "\n",
       "                  date                                               text  \\\n",
       "0  2021-07-24 10:59:49                    Let the party begin\\n#Tokyo2020   \n",
       "1  2021-07-24 10:58:45  Congratulations #Tokyo2020 https://t.co/8OFKMs...   \n",
       "2  2021-07-24 10:58:17  Big Breaking Now \\n\\nTokyo Olympic Update \\n\\n...   \n",
       "3  2021-07-24 10:57:56  Q4: 🇬🇧3-1🇿🇦\\n\\nGreat Britain finally find a wa...   \n",
       "4  2021-07-24 10:52:51  All I can think of every time I watch the ring...   \n",
       "\n",
       "                                            hashtags               source  \\\n",
       "0                                      ['Tokyo2020']  Twitter for Android   \n",
       "1                                      ['Tokyo2020']  Twitter for Android   \n",
       "2                                                NaN  Twitter for Android   \n",
       "3                                                NaN      Twitter Web App   \n",
       "4  ['Tokyo2020', 'ArtisticGymnastics', '7Olympics...   Twitter for iPhone   \n",
       "\n",
       "   retweets  favorites is_retweet                  ts  \n",
       "0       0.0        0.0      False 2021-07-24 10:59:49  \n",
       "1       0.0        0.0      False 2021-07-24 10:58:45  \n",
       "2       0.0        1.0      False 2021-07-24 10:58:17  \n",
       "3       1.0        0.0      False 2021-07-24 10:57:56  \n",
       "4       0.0        0.0      False 2021-07-24 10:52:51  "
      ]
     },
     "execution_count": 8,
     "metadata": {},
     "output_type": "execute_result"
    }
   ],
   "source": [
    "tweet_df.head()"
   ]
  },
  {
   "attachments": {},
   "cell_type": "markdown",
   "metadata": {},
   "source": [
    "4. Utiliser les fonctionnalités des dataframes pandas pour visualiser le nombre de tweets par jour de notre ensemble de données"
   ]
  },
  {
   "cell_type": "code",
   "execution_count": 10,
   "metadata": {},
   "outputs": [],
   "source": [
    "date_df = tweet_df[['ts', 'text']]"
   ]
  },
  {
   "cell_type": "code",
   "execution_count": 11,
   "metadata": {},
   "outputs": [
    {
     "data": {
      "text/plain": [
       "<Axes: xlabel='ts'>"
      ]
     },
     "execution_count": 11,
     "metadata": {},
     "output_type": "execute_result"
    },
    {
     "data": {
      "image/png": "[encoded data removed]",
      "text/plain": [
       "<Figure size 640x480 with 1 Axes>"
      ]
     },
     "metadata": {},
     "output_type": "display_data"
    }
   ],
   "source": [
    "date_df.set_index('ts').resample('1min').count().plot()"
   ]
  },
  {
   "attachments": {},
   "cell_type": "markdown",
   "metadata": {},
   "source": [
    "5. Et le nombre de tweets par utilisateur ?"
   ]
  },
  {
   "cell_type": "code",
   "execution_count": 18,
   "metadata": {},
   "outputs": [],
   "source": [
    "user_df = tweet_df[['id', 'user_name']]"
   ]
  },
  {
   "cell_type": "code",
   "execution_count": 19,
   "metadata": {},
   "outputs": [
    {
     "data": {
      "text/html": [
       "<div>\n",
       "<style scoped>\n",
       "    .dataframe tbody tr th:only-of-type {\n",
       "        vertical-align: middle;\n",
       "    }\n",
       "\n",
       "    .dataframe tbody tr th {\n",
       "        vertical-align: top;\n",
       "    }\n",
       "\n",
       "    .dataframe thead th {\n",
       "        text-align: right;\n",
       "    }\n",
       "</style>\n",
       "<table border=\"1\" class=\"dataframe\">\n",
       "  <thead>\n",
       "    <tr style=\"text-align: right;\">\n",
       "      <th></th>\n",
       "      <th>id</th>\n",
       "    </tr>\n",
       "    <tr>\n",
       "      <th>user_name</th>\n",
       "      <th></th>\n",
       "    </tr>\n",
       "  </thead>\n",
       "  <tbody>\n",
       "    <tr>\n",
       "      <th>aLpha sibuea</th>\n",
       "      <td>5395</td>\n",
       "    </tr>\n",
       "    <tr>\n",
       "      <th>canadianbestseller.com</th>\n",
       "      <td>755</td>\n",
       "    </tr>\n",
       "    <tr>\n",
       "      <th>7Olympics</th>\n",
       "      <td>629</td>\n",
       "    </tr>\n",
       "    <tr>\n",
       "      <th>International Hockey Federation</th>\n",
       "      <td>557</td>\n",
       "    </tr>\n",
       "    <tr>\n",
       "      <th>Karthik K</th>\n",
       "      <td>540</td>\n",
       "    </tr>\n",
       "    <tr>\n",
       "      <th>...</th>\n",
       "      <td>...</td>\n",
       "    </tr>\n",
       "    <tr>\n",
       "      <th>Marieke Peuscher</th>\n",
       "      <td>1</td>\n",
       "    </tr>\n",
       "    <tr>\n",
       "      <th>BS96</th>\n",
       "      <td>1</td>\n",
       "    </tr>\n",
       "    <tr>\n",
       "      <th>Mariel Lacap</th>\n",
       "      <td>1</td>\n",
       "    </tr>\n",
       "    <tr>\n",
       "      <th>BRhodes</th>\n",
       "      <td>1</td>\n",
       "    </tr>\n",
       "    <tr>\n",
       "      <th>!</th>\n",
       "      <td>1</td>\n",
       "    </tr>\n",
       "  </tbody>\n",
       "</table>\n",
       "<p>63927 rows × 1 columns</p>\n",
       "</div>"
      ],
      "text/plain": [
       "                                   id\n",
       "user_name                            \n",
       "aLpha sibuea                     5395\n",
       "canadianbestseller.com            755\n",
       "7Olympics                         629\n",
       "International Hockey Federation   557\n",
       "Karthik K                         540\n",
       "...                               ...\n",
       "Marieke Peuscher                    1\n",
       "BS96                                1\n",
       "Mariel Lacap                        1\n",
       "BRhodes                             1\n",
       "!                                   1\n",
       "\n",
       "[63927 rows x 1 columns]"
      ]
     },
     "execution_count": 19,
     "metadata": {},
     "output_type": "execute_result"
    }
   ],
   "source": [
    "user_df.groupby(\"user_name\").count().sort_values(by='id', ascending=False)"
   ]
  },
  {
   "attachments": {},
   "cell_type": "markdown",
   "metadata": {},
   "source": [
    "Avec cet échantillon, faisons un peu de traitement de texte brut pour examiner le contenu des tweets. Une première façon simple - et souvent instructive - d'inspecter le contenu des données textuelles consiste à examiner les n-grammes les plus courants. En modélisation linguistique, un \"n-gramme\" est une collection contiguë de quelque n éléments - il s'agit souvent de mots séparés par des espaces. Par exemple, les 3-grammes de la phrase \"Le chien a mangé mes devoirs\" seraient \"le chien a\", \"chien a mangé\", \"a mangé mes\", \"mangé mes devoirs\".\n",
    "\n",
    "Nous allons donc afficher les 3-grammes les plus fréquents, afin de se faire une idée des données textuelles dont nous disposons. Si nous voyons un contenu qui ne nous semble pas pertinent, nous pouvons revenir en arrière et modifier notre requête.\n"
   ]
  },
  {
   "attachments": {},
   "cell_type": "markdown",
   "metadata": {},
   "source": [
    "6. Calculez les n-grammes les plus courants \n",
    "\n",
    "    *Indice : la bibliothèque nltk peut être utile pour tokenizer (séparer en mots) le texte*"
   ]
  },
  {
   "cell_type": "code",
   "execution_count": 42,
   "metadata": {},
   "outputs": [],
   "source": [
    "from nltk.tokenize.casual import TweetTokenizer\n",
    "from nltk.util import everygrams\n",
    "from collections import Counter\n",
    "import string"
   ]
  },
  {
   "cell_type": "code",
   "execution_count": 43,
   "metadata": {},
   "outputs": [],
   "source": [
    "def get_all_tokens(tweet_df):\n",
    "    \"\"\"\n",
    "    Helper function to generate a list of text tokens from concatenating\n",
    "    all of the text contained in Tweets \n",
    "    \"\"\"\n",
    "    # concat entire corpus\n",
    "    all_text = ' '.join((txt for txt in tweet_df['text'] if type(txt) == str))\n",
    "    # tokenize\n",
    "    tokens = (TweetTokenizer(preserve_case=False,\n",
    "                            reduce_len=True,\n",
    "                            strip_handles=False)\n",
    "              .tokenize(all_text))\n",
    "    # remove symbol-only tokens for now\n",
    "    tokens = [tok for tok in tokens if not tok in string.punctuation]\n",
    "    return tokens"
   ]
  },
  {
   "cell_type": "code",
   "execution_count": 23,
   "metadata": {},
   "outputs": [],
   "source": [
    "tokens = get_all_tokens(tweet_df)"
   ]
  },
  {
   "cell_type": "code",
   "execution_count": 24,
   "metadata": {},
   "outputs": [
    {
     "data": {
      "text/plain": [
       "[(('the', 'women', '’', 's'), 831),\n",
       " (('the', 'men', '’', 's'), 606),\n",
       " (('let', '’', 's', 'go'), 468),\n",
       " (('in', 'the', 'women', '’'), 434),\n",
       " (('in', \"women's\", '49kg', 'weightlifting'), 433),\n",
       " (('in', 'the', 'women', '’', 's'), 427),\n",
       " (('so', 'proud', 'of', 'you'), 409),\n",
       " (('first', 'medal', 'for', 'india'), 354),\n",
       " (('we', 'are', 'proud', 'of'), 345),\n",
       " (('are', 'proud', 'of', 'you'), 340),\n",
       " (('❤', '️', '❤', '️'), 331),\n",
       " (('🥈', 'in', \"women's\", '49kg'), 329),\n",
       " (('🥈', 'in', \"women's\", '49kg', 'weightlifting'), 315),\n",
       " (('hearty', 'congratulations', '@mirabai_chanu', 'for'), 310),\n",
       " (('for', 'lifting', '🥈', 'in'), 310),\n",
       " (('tom', 'daley', 'and', 'matty'), 310),\n",
       " (('congratulations', '@mirabai_chanu', 'for', 'lifting'), 309),\n",
       " (('@mirabai_chanu', 'for', 'lifting', '🥈'), 309),\n",
       " (('@mirabai_chanu', 'for', 'lifting', '🥈', 'in'), 309),\n",
       " (('for', 'lifting', '🥈', 'in', \"women's\"), 309),\n",
       " (('lifting', '🥈', 'in', \"women's\"), 309),\n",
       " (('hearty', 'congratulations', '@mirabai_chanu', 'for', 'lifting'), 308),\n",
       " (('hearty', 'congratulations', '@mirabai_chanu', 'for', 'lifting', '🥈'), 308),\n",
       " (('congratulations', '@mirabai_chanu', 'for', 'lifting', '🥈'), 308),\n",
       " (('congratulations', '@mirabai_chanu', 'for', 'lifting', '🥈', 'in'), 308)]"
      ]
     },
     "execution_count": 24,
     "metadata": {},
     "output_type": "execute_result"
    }
   ],
   "source": [
    "# calculate a range of ngrams using some handy functions\n",
    "top_grams = Counter(everygrams(tokens, min_len=4, max_len=6))\n",
    "\n",
    "top_grams.most_common(25)"
   ]
  },
  {
   "attachments": {},
   "cell_type": "markdown",
   "metadata": {},
   "source": [
    "7. Quelles informations peut-on retrouver sur les JO de Tokyo en explorant les données ? "
   ]
  },
  {
   "cell_type": "code",
   "execution_count": null,
   "metadata": {},
   "outputs": [],
   "source": []
  },
  {
   "attachments": {},
   "cell_type": "markdown",
   "metadata": {},
   "source": [
    "## Feature Engineering"
   ]
  },
  {
   "attachments": {},
   "cell_type": "markdown",
   "metadata": {},
   "source": [
    "Le but, ici, est de passer de données semi-structurées (csv) à la matrice de données bidimensionnelle d'observations et de caractéristiques attendue par de nombreuses bibliothèques de ML."
   ]
  },
  {
   "attachments": {},
   "cell_type": "markdown",
   "metadata": {},
   "source": [
    "L''objectif de ce TD est de rassembler utilisateurs de Twitter en groupes de similarité. De nombreuses informations peuvent être disponibles via l'API de Twitter, pour plus de simplicité nous nous concentrerons sur la description des utilisateurs. "
   ]
  },
  {
   "attachments": {},
   "cell_type": "markdown",
   "metadata": {},
   "source": [
    "### Preprocessing"
   ]
  },
  {
   "attachments": {},
   "cell_type": "markdown",
   "metadata": {},
   "source": [
    "1. Les liens URL ne sont pas porteurs de beaucoup d'informations (raccourcis par twitter). Commençons par enlever les URL du texte et les remplacer par un pattern unique, `\"lien_url\"`"
   ]
  },
  {
   "cell_type": "code",
   "execution_count": 40,
   "metadata": {},
   "outputs": [],
   "source": [
    "import re"
   ]
  },
  {
   "cell_type": "code",
   "execution_count": 24,
   "metadata": {},
   "outputs": [],
   "source": [
    "def replace_urls(string):\n",
    "    \"\"\"Replace URLs in strings\n",
    "    \"\"\"\n",
    "    replacement = 'line_url' \n",
    "    pattern = re.compile('(https?://)?(\\w*[.]\\w+)+([/?=&]+\\w+)*')\n",
    "    try:\n",
    "        res = re.sub(pattern, replacement, string)\n",
    "    except:\n",
    "        res = 'na'\n",
    "    return res"
   ]
  },
  {
   "cell_type": "code",
   "execution_count": 28,
   "metadata": {},
   "outputs": [
    {
     "data": {
      "text/plain": [
       "0                           Let the party begin\\n#Tokyo2020\n",
       "1                       Congratulations #Tokyo2020 line_url\n",
       "2         Big Breaking Now \\n\\nTokyo Olympic Update \\n\\n...\n",
       "3         Q4: 🇬🇧3-1🇿🇦\\n\\nGreat Britain finally find a wa...\n",
       "4         All I can think of every time I watch the ring...\n",
       "                                ...                        \n",
       "297006    It's a close contest in our first Olympic game...\n",
       "297007    10 athletes from the IOC @RefugeesOlympic star...\n",
       "297008    SNACK TIME! \\n\\nHow could I say no to “two sof...\n",
       "297009    .\\n.\\n.\\n🏄‍♂️ 𝐊𝐚𝐧𝐨𝐚 𝐈𝐠𝐚𝐫𝐚𝐬𝐡𝐢 🇯🇵\\n.\\n.\\n🥈𝐂𝐨𝐧𝐠𝐫𝐚...\n",
       "297010    #Breaking - It brings Tokyo’s total to more th...\n",
       "Name: text, Length: 297011, dtype: object"
      ]
     },
     "execution_count": 28,
     "metadata": {},
     "output_type": "execute_result"
    }
   ],
   "source": [
    "date_df['text'].apply(replace_urls)"
   ]
  },
  {
   "attachments": {},
   "cell_type": "markdown",
   "metadata": {},
   "source": [
    "Une étape importante du traitement de texte consiste à diviser la string en tokens (ou mots). Il existe de nombreuses façons de découper une chaîne de texte en tokens, mais dans le cadre de cette discussion, nous nous intéresserons principalement à l'anglais. Dans ce cas, le découpage du texte via les espaces reste la manière la plus simple de procéder. \n",
    "\n",
    "Nous pouvons également choisir de créer notre propre tokenizer explicite si les données (et la tâche) l'exigent. Une méthode particulière qui fonctionne avec les données Twitter est le TweetTokenizer de NLTK. Il préserve les symboles @ et # au début des mots, et peut également \"réduire\" les caractères répétés - c'est-à-dire que lolll, lollllll, et lollllllllllll se réduiront tous à la même représentation \"lolll\" (trois \"l\"). "
   ]
  },
  {
   "attachments": {},
   "cell_type": "markdown",
   "metadata": {},
   "source": [
    "2. Créer une fonction `tokenizer()` qui sépare du texte en tokens."
   ]
  },
  {
   "cell_type": "code",
   "execution_count": 25,
   "metadata": {},
   "outputs": [],
   "source": [
    "def tokenizer(string):\n",
    "    \"\"\"\n",
    "    Convert `in_string` of text to a list of tokens using NLTK's TweetTokenizer\n",
    "    \"\"\"\n",
    "    # reasonable, but adjustable tokenizer settings\n",
    "    tokenizer = TweetTokenizer(preserve_case=False,\n",
    "                               reduce_len=True,\n",
    "                               strip_handles=False)\n",
    "    tokens = tokenizer.tokenize(string)\n",
    "    return tokens"
   ]
  },
  {
   "attachments": {},
   "cell_type": "markdown",
   "metadata": {},
   "source": [
    "3. Enlever les \"stop-words\" (mots les plus courants, qui ne sont pas vraiment porteurs d'information - 'the', etc.)\n",
    "\n",
    "    *Indice : utiliser des listes de stop-words déjà faites, comme celle de `python-stop-words`. Avez-vous pense à tous les langages pertinents ?*"
   ]
  },
  {
   "cell_type": "code",
   "execution_count": 5,
   "metadata": {},
   "outputs": [],
   "source": [
    "from stop_words import get_stop_words"
   ]
  },
  {
   "cell_type": "code",
   "execution_count": 6,
   "metadata": {},
   "outputs": [],
   "source": [
    "my_stopwords = get_stop_words('en')"
   ]
  },
  {
   "cell_type": "code",
   "execution_count": 7,
   "metadata": {},
   "outputs": [
    {
     "data": {
      "text/plain": [
       "['a',\n",
       " 'about',\n",
       " 'above',\n",
       " 'after',\n",
       " 'again',\n",
       " 'against',\n",
       " 'all',\n",
       " 'am',\n",
       " 'an',\n",
       " 'and',\n",
       " 'any',\n",
       " 'are',\n",
       " \"aren't\",\n",
       " 'as',\n",
       " 'at',\n",
       " 'be',\n",
       " 'because',\n",
       " 'been',\n",
       " 'before',\n",
       " 'being',\n",
       " 'below',\n",
       " 'between',\n",
       " 'both',\n",
       " 'but',\n",
       " 'by',\n",
       " \"can't\",\n",
       " 'cannot',\n",
       " 'could',\n",
       " \"couldn't\",\n",
       " 'did',\n",
       " \"didn't\",\n",
       " 'do',\n",
       " 'does',\n",
       " \"doesn't\",\n",
       " 'doing',\n",
       " \"don't\",\n",
       " 'down',\n",
       " 'during',\n",
       " 'each',\n",
       " 'few',\n",
       " 'for',\n",
       " 'from',\n",
       " 'further',\n",
       " 'had',\n",
       " \"hadn't\",\n",
       " 'has',\n",
       " \"hasn't\",\n",
       " 'have',\n",
       " \"haven't\",\n",
       " 'having',\n",
       " 'he',\n",
       " \"he'd\",\n",
       " \"he'll\",\n",
       " \"he's\",\n",
       " 'her',\n",
       " 'here',\n",
       " \"here's\",\n",
       " 'hers',\n",
       " 'herself',\n",
       " 'him',\n",
       " 'himself',\n",
       " 'his',\n",
       " 'how',\n",
       " \"how's\",\n",
       " 'i',\n",
       " \"i'd\",\n",
       " \"i'll\",\n",
       " \"i'm\",\n",
       " \"i've\",\n",
       " 'if',\n",
       " 'in',\n",
       " 'into',\n",
       " 'is',\n",
       " \"isn't\",\n",
       " 'it',\n",
       " \"it's\",\n",
       " 'its',\n",
       " 'itself',\n",
       " \"let's\",\n",
       " 'me',\n",
       " 'more',\n",
       " 'most',\n",
       " \"mustn't\",\n",
       " 'my',\n",
       " 'myself',\n",
       " 'no',\n",
       " 'nor',\n",
       " 'not',\n",
       " 'of',\n",
       " 'off',\n",
       " 'on',\n",
       " 'once',\n",
       " 'only',\n",
       " 'or',\n",
       " 'other',\n",
       " 'ought',\n",
       " 'our',\n",
       " 'ours',\n",
       " 'ourselves',\n",
       " 'out',\n",
       " 'over',\n",
       " 'own',\n",
       " 'same',\n",
       " \"shan't\",\n",
       " 'she',\n",
       " \"she'd\",\n",
       " \"she'll\",\n",
       " \"she's\",\n",
       " 'should',\n",
       " \"shouldn't\",\n",
       " 'so',\n",
       " 'some',\n",
       " 'such',\n",
       " 'than',\n",
       " 'that',\n",
       " \"that's\",\n",
       " 'the',\n",
       " 'their',\n",
       " 'theirs',\n",
       " 'them',\n",
       " 'themselves',\n",
       " 'then',\n",
       " 'there',\n",
       " \"there's\",\n",
       " 'these',\n",
       " 'they',\n",
       " \"they'd\",\n",
       " \"they'll\",\n",
       " \"they're\",\n",
       " \"they've\",\n",
       " 'this',\n",
       " 'those',\n",
       " 'through',\n",
       " 'to',\n",
       " 'too',\n",
       " 'under',\n",
       " 'until',\n",
       " 'up',\n",
       " 'very',\n",
       " 'was',\n",
       " \"wasn't\",\n",
       " 'we',\n",
       " \"we'd\",\n",
       " \"we'll\",\n",
       " \"we're\",\n",
       " \"we've\",\n",
       " 'were',\n",
       " \"weren't\",\n",
       " 'what',\n",
       " \"what's\",\n",
       " 'when',\n",
       " \"when's\",\n",
       " 'where',\n",
       " \"where's\",\n",
       " 'which',\n",
       " 'while',\n",
       " 'who',\n",
       " \"who's\",\n",
       " 'whom',\n",
       " 'why',\n",
       " \"why's\",\n",
       " 'with',\n",
       " \"won't\",\n",
       " 'would',\n",
       " \"wouldn't\",\n",
       " 'you',\n",
       " \"you'd\",\n",
       " \"you'll\",\n",
       " \"you're\",\n",
       " \"you've\",\n",
       " 'your',\n",
       " 'yours',\n",
       " 'yourself',\n",
       " 'yourselves']"
      ]
     },
     "execution_count": 7,
     "metadata": {},
     "output_type": "execute_result"
    }
   ],
   "source": [
    "my_stopwords"
   ]
  },
  {
   "attachments": {},
   "cell_type": "markdown",
   "metadata": {},
   "source": [
    "### Vectorisation"
   ]
  },
  {
   "attachments": {},
   "cell_type": "markdown",
   "metadata": {},
   "source": [
    "La plupart des algorithmes de ML prêts à l'emploi, par exemple ceux de sklearn, attendent une entrée sous forme de matrice de données bidimensionnelle de valeurs numériques : observations (lignes) x caractéristiques (colonnes). Pour créer une représentation numérique de données textuelles, nous devons vectoriser les caractéristiques du texte (tokens)."
   ]
  },
  {
   "attachments": {},
   "cell_type": "markdown",
   "metadata": {},
   "source": [
    "1. Qu'est-ce que le TF-IDF d'un mot dans un corpus de texte ? "
   ]
  },
  {
   "attachments": {},
   "cell_type": "markdown",
   "metadata": {},
   "source": [
    "2. Créer un TF-IDF grâce à sklearn, en tirant parti des arguments `preprocessor`, `stop-words`, `tokenizer` et `max-features`"
   ]
  },
  {
   "cell_type": "code",
   "execution_count": 21,
   "metadata": {},
   "outputs": [],
   "source": [
    "from sklearn.feature_extraction.text import TfidfVectorizer"
   ]
  },
  {
   "cell_type": "code",
   "execution_count": 50,
   "metadata": {},
   "outputs": [],
   "source": [
    "unique_user_count = tweet_df['user_name'].nunique()"
   ]
  },
  {
   "cell_type": "code",
   "execution_count": 51,
   "metadata": {},
   "outputs": [
    {
     "data": {
      "text/plain": [
       "63927"
      ]
     },
     "execution_count": 51,
     "metadata": {},
     "output_type": "execute_result"
    }
   ],
   "source": [
    "unique_user_count"
   ]
  },
  {
   "cell_type": "code",
   "execution_count": 26,
   "metadata": {},
   "outputs": [],
   "source": [
    "vec = TfidfVectorizer(preprocessor=replace_urls,\n",
    "                      tokenizer=tokenizer,\n",
    "                      stop_words=my_stopwords,\n",
    "                      max_features=unique_user_count//100,\n",
    "                     )"
   ]
  },
  {
   "cell_type": "code",
   "execution_count": 33,
   "metadata": {},
   "outputs": [],
   "source": [
    "# create one entry per user\n",
    "unique_user_map = {row.loc['user_name']: row.loc['user_description'] for index,row in tweet_df.iterrows()}"
   ]
  },
  {
   "cell_type": "code",
   "execution_count": 52,
   "metadata": {},
   "outputs": [],
   "source": [
    "\n",
    "# we need to maintain the same ordering of users and bios\n",
    "unique_users = []\n",
    "unique_bios = []\n",
    "for user,bio in unique_user_map.items():\n",
    "    unique_users.append(user)\n",
    "    if bio is None or type(bio)!=str:\n",
    "        # special case for empty bios\n",
    "        continue\n",
    "    unique_bios.append(bio)"
   ]
  },
  {
   "cell_type": "code",
   "execution_count": 38,
   "metadata": {},
   "outputs": [
    {
     "data": {
      "text/plain": [
       "59130"
      ]
     },
     "execution_count": 38,
     "metadata": {},
     "output_type": "execute_result"
    }
   ],
   "source": [
    "len(unique_bios)"
   ]
  },
  {
   "cell_type": "code",
   "execution_count": 44,
   "metadata": {},
   "outputs": [],
   "source": [
    "matrice = vec.fit_transform(unique_bios)\n"
   ]
  },
  {
   "cell_type": "code",
   "execution_count": 45,
   "metadata": {},
   "outputs": [
    {
     "data": {
      "text/plain": [
       "<59130x639 sparse matrix of type '<class 'numpy.float64'>'\n",
       "\twith 349496 stored elements in Compressed Sparse Row format>"
      ]
     },
     "execution_count": 45,
     "metadata": {},
     "output_type": "execute_result"
    }
   ],
   "source": [
    "matrice"
   ]
  },
  {
   "cell_type": "code",
   "execution_count": 61,
   "metadata": {},
   "outputs": [
    {
     "data": {
      "text/plain": [
       "37784070"
      ]
     },
     "execution_count": 61,
     "metadata": {},
     "output_type": "execute_result"
    }
   ],
   "source": [
    "59130*639"
   ]
  },
  {
   "attachments": {},
   "cell_type": "markdown",
   "metadata": {},
   "source": [
    "3. Commentez le résultat : pourquoi la matrice est si sparse (clairsemée) ? "
   ]
  },
  {
   "attachments": {},
   "cell_type": "markdown",
   "metadata": {},
   "source": [
    "4. Quelles autres features peut-on ajouter à nos données ? "
   ]
  },
  {
   "attachments": {},
   "cell_type": "markdown",
   "metadata": {},
   "source": [
    "## Sélection d'un modèle et de ses hyperparamètres"
   ]
  },
  {
   "attachments": {},
   "cell_type": "markdown",
   "metadata": {},
   "source": [
    "De nombeaux modèles de clustering sont disponibles via la bibliothèque `scikit-learn`([https://scikit-learn.org/stable/modules/clustering.html])"
   ]
  },
  {
   "attachments": {},
   "cell_type": "markdown",
   "metadata": {},
   "source": [
    "### K-Means"
   ]
  },
  {
   "attachments": {},
   "cell_type": "markdown",
   "metadata": {},
   "source": [
    "KMeans est un choix courant car il est très rapide pour des quantités modérées de données. Comme la plupart des algorithmes de ML, KMeans a des hyperparamètres qui doivent être choisis de manière appropriée. Dans le cas présent, ce paramètre est k, le nombre de clusters dans nos données."
   ]
  },
  {
   "attachments": {},
   "cell_type": "markdown",
   "metadata": {},
   "source": [
    "En non supervisé, il n'est pas facile de calculer (et d'optimiser) un score de précision. Nous devons donc utiliser d'autres techniques pour comparer les modèles entre eux afin de sélectionner k. Comme nous ne connaissons pas ce nombre a priori, une technique consiste à comparer la valeur d'une certaine métrique de qualité parmi une gamme de k potentiels. Il existe un certain nombre de mesures de qualité connues, dont nous n'utiliserons que deux : le silhouette score et l'inertie."
   ]
  },
  {
   "attachments": {},
   "cell_type": "markdown",
   "metadata": {},
   "source": [
    "1. Que représente le silhouette score ? Et l'inertie ?"
   ]
  },
  {
   "attachments": {},
   "cell_type": "markdown",
   "metadata": {},
   "source": [
    "2. En utilisant `scikit-learn`, calculer le silhouette-score ainsi que l'inertie pour plusieurs valeurs de k différentes : [2, 50, 200, 500] (cette étape peut prendre quelques minutes)"
   ]
  },
  {
   "cell_type": "code",
   "execution_count": 57,
   "metadata": {},
   "outputs": [],
   "source": [
    "from sklearn.cluster import KMeans\n",
    "from sklearn.metrics import silhouette_score\n",
    "import matplotlib.pyplot as plt"
   ]
  },
  {
   "cell_type": "code",
   "execution_count": 59,
   "metadata": {},
   "outputs": [
    {
     "name": "stdout",
     "output_type": "stream",
     "text": [
      "Fitting model for 2 clusters\n",
      "Fitting model for 50 clusters\n",
      "Fitting model for 200 clusters\n",
      "Fitting model for 500 clusters\n"
     ]
    }
   ],
   "source": [
    "# Les valeurs qu'on veut tester\n",
    "ks = [2, 50, 200, 500]\n",
    "\n",
    "\n",
    "# Les métriques qu'on veut observer\n",
    "sil_scores = []\n",
    "inertias = []\n",
    "\n",
    "seed = 0\n",
    "\n",
    "\n",
    "# Pour chaque valeur de k, on fit un modèle k-means\n",
    "for k in ks:\n",
    "    print('Fitting model for {} clusters'.format(k))\n",
    "    model = KMeans(n_clusters=k, random_state=seed)\n",
    "    model.fit(matrice)\n",
    "    labels = model.labels_\n",
    "    sil_scores.append(silhouette_score(matrice, labels))\n",
    "    inertias.append(model.inertia_)\n"
   ]
  },
  {
   "cell_type": "code",
   "execution_count": 76,
   "metadata": {},
   "outputs": [
    {
     "data": {
      "text/plain": [
       "<59130x639 sparse matrix of type '<class 'numpy.float64'>'\n",
       "\twith 349496 stored elements in Compressed Sparse Row format>"
      ]
     },
     "execution_count": 76,
     "metadata": {},
     "output_type": "execute_result"
    }
   ],
   "source": [
    "matrice"
   ]
  },
  {
   "attachments": {},
   "cell_type": "markdown",
   "metadata": {},
   "source": [
    "3. En utilisant `matplotlib.pyplot`, afficher l'évolution du silhouette-score et de l'inertie en fonction de la valeur de k"
   ]
  },
  {
   "cell_type": "code",
   "execution_count": 84,
   "metadata": {},
   "outputs": [
    {
     "data": {
      "image/png": "[encoded data removed]",
      "text/plain": [
       "<Figure size 640x480 with 2 Axes>"
      ]
     },
     "metadata": {},
     "output_type": "display_data"
    }
   ],
   "source": [
    "\n",
    "# plot the quality metrics for inspection\n",
    "fig, ax = plt.subplots(2, 1, sharex=True)\n",
    "\n",
    "plt.subplot(211)\n",
    "plt.plot(ks, inertias)\n",
    "plt.ylabel('inertia')\n",
    "plt.title('kmeans parameter search')\n",
    "\n",
    "plt.subplot(212)\n",
    "plt.plot(ks, sil_scores)\n",
    "plt.ylabel('silhouette score')\n",
    "plt.xlabel('k');"
   ]
  },
  {
   "attachments": {},
   "cell_type": "markdown",
   "metadata": {},
   "source": [
    "4. Analyser les résultats ci-dessus : quelle serait la meilleure valeur de k ? Comment pourrait-on affiner cette recherche ?"
   ]
  },
  {
   "attachments": {},
   "cell_type": "markdown",
   "metadata": {},
   "source": [
    "5. Entraîner le modèle, avec les bonnes valeurs de k, sur l'ensemble du jeu de données"
   ]
  },
  {
   "cell_type": "code",
   "execution_count": 87,
   "metadata": {},
   "outputs": [],
   "source": [
    "final_model = KMeans(n_clusters=100, random_state=seed)\n",
    "final_model.fit(matrice)\n",
    "labels = final_model.labels_"
   ]
  },
  {
   "attachments": {},
   "cell_type": "markdown",
   "metadata": {},
   "source": [
    "## Résultats"
   ]
  },
  {
   "attachments": {},
   "cell_type": "markdown",
   "metadata": {},
   "source": [
    "1. Combien y a-t-il d'utilisateurs dans chaque cluster ? Que peut-on en déduire ?"
   ]
  },
  {
   "cell_type": "code",
   "execution_count": 63,
   "metadata": {},
   "outputs": [],
   "source": [
    "import numpy as np"
   ]
  },
  {
   "cell_type": "code",
   "execution_count": 65,
   "metadata": {},
   "outputs": [
    {
     "data": {
      "image/png": "[encoded data removed]",
      "text/plain": [
       "<Figure size 640x480 with 1 Axes>"
      ]
     },
     "metadata": {},
     "output_type": "display_data"
    }
   ],
   "source": [
    "cluster_numbers = range(100)\n",
    "number_of_occurrence_per_cluster = np.bincount(model.labels_)\n",
    "\n",
    "plt.bar(cluster_numbers, number_of_occurrence_per_cluster)\n",
    "\n",
    "plt.ylabel('population')\n",
    "plt.xlabel('cluster label')\n",
    "plt.title('population sizes with {} clusters'.format(100));"
   ]
  },
  {
   "attachments": {},
   "cell_type": "markdown",
   "metadata": {},
   "source": [
    "Rappelons que les utilisateurs sont représentés dans un espace de paramètres comprenant les mots utilisés dans leur biographie. Dans l'algorithme KMeans, la représentation résultante de ces cluster est constituée des coordonnées du centroïde de chaque cluster dans cet espace de tokens. Ainsi, une autre façon d'examiner nos résultats est de poser la question suivante : pour chaque centroïde de cluster, quels sont les tokens qui ont la plus grande projection sur ce centroïde ? En d'autres termes, quels sont les tokens les plus fortement associés à chaque groupe ?"
   ]
  },
  {
   "attachments": {},
   "cell_type": "markdown",
   "metadata": {},
   "source": [
    "2. Afficher les n features les plus importantes pour chaque cluster"
   ]
  },
  {
   "cell_type": "code",
   "execution_count": 99,
   "metadata": {},
   "outputs": [
    {
     "data": {
      "text/plain": [
       "array(['!', '\"', '#', '#blacklivesmatter', '#tokyo2020', '$', '%', '&',\n",
       "       \"'\", '(', ')', '*', '+', ',', '-', '.', '..', '...', '/', '1',\n",
       "       '100', '18', '19', '2', '20', '2019', '2020', '2021', '21', '22',\n",
       "       '23', '24', '3', '4', '5', '6', '7', ':', ':)', ';', '=', '?', '@',\n",
       "       '@line_url', 'account', 'across', 'activist', 'actor', 'addict',\n",
       "       'advocate', 'affairs', 'africa', 'agency', 'also', 'alum',\n",
       "       'alumni', 'always', 'amateur', 'ambassador', 'analysis', 'analyst',\n",
       "       'anchor', 'animal', 'anime', 'anything', 'app', 'army', 'around',\n",
       "       'arsenal', 'art', 'artist', 'arts', 'aspiring', 'assistant',\n",
       "       'athlete', 'australia', 'author', 'avid', 'award', 'back', 'bad',\n",
       "       'based', 'basketball', 'beautiful', 'beer', 'believe', 'best',\n",
       "       'better', 'big', 'bit', 'bjp', 'black', 'blog', 'blogger', 'board',\n",
       "       'body', 'book', 'books', 'born', 'boxing', 'boy', 'brand',\n",
       "       'breaking', 'british', 'broadcaster', 'business', 'call', 'can',\n",
       "       'canadian', 'care', 'cat', 'cats', 'ceo', 'champion', 'change',\n",
       "       'channel', 'check', 'chelsea', 'chief', 'city', 'club',\n",
       "       'co-founder', 'coach', 'coffee', 'college', 'come', 'commentator',\n",
       "       'comms', 'communications', 'community', 'company', 'consultant',\n",
       "       'contact', 'content', 'correspondent', 'country', 'covering',\n",
       "       'creative', 'creator', 'cricket', 'culture', 'current',\n",
       "       'currently', 'cycling', 'cyclist', 'd', 'da', 'dad', 'daily',\n",
       "       'data', 'day', 'de', 'dedicated', 'del', 'design', 'designer',\n",
       "       'developer', 'development', 'di', 'die', 'digital', 'director',\n",
       "       'dm', 'dog', 'dogs', 'don', 'dream', 'dreamer', 'e', 'east',\n",
       "       'editor', 'education', 'educator', 'el', 'em', 'email', 'en',\n",
       "       'endorsement', 'endorsements', 'engineer', 'engineering',\n",
       "       'english', 'enjoy', 'entertainment', 'enthusiast', 'entrepreneur',\n",
       "       'et', 'etc', 'eu', 'events', 'every', 'everyone', 'everything',\n",
       "       'ex', 'executive', 'experience', 'expert', 'expressed', 'f1',\n",
       "       'facebook', 'family', 'fan', 'fanatic', 'fans', 'fashion',\n",
       "       'father', 'fb', 'fc', 'fellow', 'feminist', 'film', 'financial',\n",
       "       'find', 'first', 'fitness', 'follow', 'follower', 'food', 'foodie',\n",
       "       'football', 'forever', 'former', 'formerly', 'founder', 'free',\n",
       "       'freelance', 'friend', 'friends', 'full', 'fun', 'future', 'game',\n",
       "       'gamer', 'games', 'gaming', 'geek', 'general', 'get', 'girl',\n",
       "       'give', 'global', 'go', 'god', 'golf', 'good', 'got', 'government',\n",
       "       'grad', 'graduate', 'graphic', 'great', 'group', 'guy', 'handle',\n",
       "       'happy', 'hard', 'hate', 'head', 'health', 'heart', 'help', 'hi',\n",
       "       'high', 'hindu', 'history', 'hockey', 'home', 'host', 'human',\n",
       "       'husband', 'ig', 'independent', 'india', 'indian', 'info',\n",
       "       'information', 'insta', 'instagram', 'interested', 'international',\n",
       "       'jai', 'japan', 'jesus', 'join', 'journalism', 'journalist',\n",
       "       'junkie', 'just', 'justice', 'keep', 'kids', 'kind', 'know', 'l',\n",
       "       'la', 'latest', 'law', 'lawyer', 'lead', 'leader', 'leading',\n",
       "       'league', 'learning', 'let', 'life', 'lifestyle', 'like', 'likes',\n",
       "       'line_url', 'link', 'little', 'live', 'liverpool', 'lives',\n",
       "       'living', 'll', 'local', 'london', 'long', 'lot', 'love', 'lover',\n",
       "       'loves', 'loving', 'm', 'made', 'make', 'making', 'man',\n",
       "       'management', 'manager', 'manchester', 'many', 'marketing',\n",
       "       'married', 'master', 'may', 'media', 'member', 'mind', 'mine',\n",
       "       'mom', 'mostly', 'mother', 'movie', 'movies', 'much', 'mum',\n",
       "       'music', 'n', 'name', 'nation', 'national', 'nationalist',\n",
       "       'nature', 'nba', 'need', 'nerd', 'network', 'never', 'new', 'news',\n",
       "       'next', 'north', 'nothing', 'now', 'o', 'occasional', 'officer',\n",
       "       'official', 'old', 'olympic', 'olympics', 'one', 'online', 'open',\n",
       "       'opinion', 'opinions', 'others', 'owner', 'page', 'part', 'party',\n",
       "       'passion', 'passionate', 'peace', 'people', 'person', 'personal',\n",
       "       'phd', 'photographer', 'photography', 'place', 'platform', 'play',\n",
       "       'player', 'please', 'podcast', 'policy', 'political', 'politics',\n",
       "       'pop', 'pr', 'presenter', 'president', 'pro', 'producer',\n",
       "       'professional', 'professor', 'proud', 'providing', 'public',\n",
       "       'quality', 'que', 'r', 'racing', 'radio', 'random', 'read',\n",
       "       'reader', 'real', 'red', 'reporter', 'research', 'researcher',\n",
       "       'retweets', 'right', 'rights', 'rock', 'rt', 'rts', 'rugby', 'run',\n",
       "       'runner', 'running', 's', 'say', 'school', 'science', 'scientist',\n",
       "       'secretary', 'see', 'senior', 'service', 'services', 'share',\n",
       "       'show', 'simple', 'since', 'small', 'soccer', 'social', 'software',\n",
       "       'sometimes', 'son', 'soul', 'south', 'space', 'speaker',\n",
       "       'specialist', 'sport', 'sports', 'stan', 'star', 'state', 'stay',\n",
       "       'still', 'stories', 'story', 'student', 'stuff', 'subscribe',\n",
       "       'support', 'supporter', 't', 'take', 'talk', 'teacher', 'team',\n",
       "       'tech', 'technology', 'tennis', 'things', 'think', 'thoughts',\n",
       "       'time', 'times', 'today', 'tokyo', 'top', 'travel', 'traveler',\n",
       "       'traveller', 'true', 'truth', 'trying', 'tv', 'tweet', 'tweets',\n",
       "       'twitter', 'two', 'u', 'uk', 'un', 'united', 'university',\n",
       "       'updates', 'us', 'video', 'views', 'voice', 'w', 'want', 'watch',\n",
       "       'way', 'web', 'website', 'welcome', 'well', 'west', 'wife', 'will',\n",
       "       'wine', 'winner', 'women', \"women's\", 'words', 'work', 'worker',\n",
       "       'working', 'world', 'write', 'writer', 'writing', 'x', 'y', 'year',\n",
       "       'years', 'young', 'youth', 'youtube', '|', '~', '͏', 'का', 'जय',\n",
       "       'है', '।', '\\u200f', '—', '‘', '’', '“', '”', '•', '…', '→', '≠',\n",
       "       '▪', '☆', '☕', '♡', '♥', '⚡', '⚪', '⚽', '⚾', '✈', '✌', '✍', '✨',\n",
       "       '❤', '➡', '⠀', '⭐', '、', '。', '・', '︎', '️', '️\\u200d🌈', '！', '🇦🇺',\n",
       "       '🇨🇦', '🇪🇺', '🇫🇷', '🇬🇧', '🇮🇳', '🇯🇵', '🇵🇭', '🇵🇰', '🇺🇸', '🌈', '🌍',\n",
       "       '🌎', '🌸', '🌹', '🎓', '🎙', '🎥', '🎧', '🎬', '🎮', '🎶', '🎾', '🏀', '🏆',\n",
       "       '🏈', '🏉', '🏏', '🏳', '🐶', '👇', '👉', '👑', '💕', '💖', '💙', '💚', '💛',\n",
       "       '💜', '💪', '💫', '💯', '💻', '📍', '📚', '📸', '📺', '🔥', '🔴', '🖤', '😊',\n",
       "       '😍', '😎', '🙏', '🚩', '🤍', '🦁'], dtype=object)"
      ]
     },
     "execution_count": 99,
     "metadata": {},
     "output_type": "execute_result"
    }
   ],
   "source": [
    "vec.get_feature_names_out()"
   ]
  },
  {
   "cell_type": "code",
   "execution_count": 102,
   "metadata": {},
   "outputs": [],
   "source": [
    "def strongest_features(model, vectorizer, topn=10):\n",
    "    \"\"\"\n",
    "    Helper function to display a simple text representation of the top-n most\n",
    "    important features in our fit model and vectorizer.\n",
    "\n",
    "    model: sklearn model\n",
    "    vectorizer: sklearn vectorizer (for example, tfidf vectorizer) to get the name of the features\n",
    "    topn: n numbers of features (words) to get per cluster\n",
    "    \"\"\"\n",
    "    features = vectorizer.get_feature_names_out()\n",
    "\n",
    "    relevant_labels = list(set(model.labels_)) # set of unique labels\n",
    "    centroids = model.cluster_centers_.argsort()[:,::-1]\n",
    "    for this_label in relevant_labels:\n",
    "        print('Cluster {}:'.format(this_label), end='')\n",
    "        for ind in centroids[this_label, :topn]:\n",
    "            print(' {}'.format(features[ind]), end='')\n",
    "        print()"
   ]
  },
  {
   "cell_type": "code",
   "execution_count": 103,
   "metadata": {},
   "outputs": [
    {
     "name": "stdout",
     "output_type": "stream",
     "text": [
      "Cluster 0: fitness , . & health coach sports enthusiast ! lover\n",
      "Cluster 1: made . , & ! every can people / |\n",
      "Cluster 2: . / , fan & sports line_url enthusiast lover writer\n",
      "Cluster 3: & . , ! news line_url : sports / football\n",
      "Cluster 4: account official . , line_url follow news stan : india\n",
      "Cluster 5: official twitter account . , handle line_url university news welcome\n",
      "Cluster 6: . , just news * ~ like sport 💙 one\n",
      "Cluster 7: ✨ , . | ️ / : & ! line_url\n",
      "Cluster 8: \" . , - | ! line_url & : /\n",
      "Cluster 9: • / , & : | ️ line_url . (\n",
      "Cluster 10: , . & ! sports news music / line_url fan\n",
      "Cluster 11: 💜 💙 💛 💚 ️ ❤ , . love army\n",
      "Cluster 12: 🚩 🇮🇳 🙏 जय । jai , ️ | है\n",
      "Cluster 13: line_url . | , / : & - account …\n",
      "Cluster 14: help . , & line_url people can ! need us\n",
      "Cluster 15: + . , 18 & line_url | : = /\n",
      "Cluster 16: god . , first ! 🙏 good believe & will\n",
      "Cluster 17: - . , line_url & : / ! @line_url ”\n",
      "Cluster 18: player . , hockey / & fan football rugby tennis\n",
      "Cluster 19: . , & / : fan sports like news music\n",
      "Cluster 20: | ️ ⚽ ❤ & : , . / 💙\n",
      "Cluster 21: day . , one every & ! time life good\n",
      "Cluster 22: ! , . & line_url ️ ... fan follow go\n",
      "Cluster 23: o e , . de da eu ! / -\n",
      "Cluster 24: ’ s . t , m don ! & just\n",
      "Cluster 25: , . & / ! : fan music sports line_url\n",
      "Cluster 26: | , & / . : line_url sports - views\n",
      "Cluster 27: em e de . , | o / da -\n",
      "Cluster 28: editor . , sports & news views : line_url writer\n",
      "Cluster 29: | / , : & line_url . fan sports ️\n",
      "Cluster 30: 🇮🇳 indian proud , . 🙏 जय ️ jai 💪\n",
      "Cluster 31: .. line_url ... , . ! life like 🇮🇳 fan\n",
      "Cluster 32: love . , & hate ! ️ sports line_url music\n",
      "Cluster 33: 、 。 ！ ・ . → ( ) , /\n",
      "Cluster 34: । , जय 🇮🇳 है 🙏 | का - 🚩\n",
      "Cluster 35: right . , now ’ always place line_url just !\n",
      "Cluster 36: making . , / & better line_url ! friends |\n",
      "Cluster 37: , ) ( . & / : ! - line_url\n",
      "Cluster 38: ❤ , . 💙 🇵🇰 proud love 💚 🙏 💛\n",
      "Cluster 39: ? , . ! know like can want line_url ...\n",
      "Cluster 40: 👉 line_url 🙏 . instagram follow : | ️ account\n",
      "Cluster 41: line_url . , : news & @line_url us follow !\n",
      "Cluster 42: ) ( . / , line_url & - : |\n",
      "Cluster 43: nothing . , say everything ... like know good much\n",
      "Cluster 44: twitter . , account ! welcome follow : handle just\n",
      "Cluster 45: heart . , soul & ❤ sports line_url die ...\n",
      "Cluster 46: activist social , . | media & rights human justice\n",
      "Cluster 47: ❤ ️ 💙 , . 💚 ⚽ love ! 💛\n",
      "Cluster 48: el en de y . la , que del line_url\n",
      "Cluster 49: tweets . , personal & views endorsement / rts mostly\n",
      "Cluster 50: ; , . & / : line_url ! - views\n",
      "Cluster 51: l ’ , - . | & e de la\n",
      "Cluster 52: tennis . , 🎾 & fan sports football / cricket\n",
      "Cluster 53: है । , 🙏 ! ... .. जय का 🇮🇳\n",
      "Cluster 54: sports . , journalist & news line_url ! enthusiast /\n",
      "Cluster 55: india , . & 🇮🇳 government official news ( )\n",
      "Cluster 56: 🖤 ❤ 💛 ️ 🤍 💙 . , 💚 💜\n",
      "Cluster 57: founder . , & line_url director : | / -\n",
      "Cluster 58: , husband father . dad & son fan proud sports\n",
      "Cluster 59: make . , world trying better ! just people life\n",
      "Cluster 60: ️ ⚽ ♥ . , ✈ ⭐ & 🔴 !\n",
      "Cluster 61: et , . de en la un ’ / :\n",
      "Cluster 62: always . , will ! first line_url never - life\n",
      "Cluster 63: que de eu . o , e la ! un\n",
      "Cluster 64: ♡ | , ︎ . / ( ) line_url &\n",
      "Cluster 65: life . , living live ! just line_url ... enjoy\n",
      "Cluster 66: views . , personal mine & expressed / journalist endorsements\n",
      "Cluster 67: 。 、 ・ / ( ) . , ！ line_url\n",
      "Cluster 68: media social . , & digital marketing | news line_url\n",
      "Cluster 69: 💫 | ️ ✨ . ! / 💛 , ❤\n",
      "Cluster 70: de . la , en y e un del /\n",
      "Cluster 71: world . , news around sports & latest line_url !\n",
      "Cluster 72: cricket 🏏 , . lover fan love ❤ indian ️\n",
      "Cluster 73: y de en . , del la un el ️\n",
      "Cluster 74: happy . , ! life line_url & always just stay\n",
      "Cluster 75: lover , . music sports & fan animal nature things\n",
      "Cluster 76: ceo founder . & , line_url / | - ’\n",
      "Cluster 77: / . , & : line_url | ️ ( )\n",
      "Cluster 78: e , de . da di | eu / !\n",
      "Cluster 79: indian proud 🇮🇳 . , | sports engineer first !\n",
      "Cluster 80: ‏ ❤ line_url . ... | ️ ♥ 🇵🇰 ✌\n",
      "Cluster 81: ⠀ think ? • ͏ . = make ! -\n",
      "Cluster 82: fan . , account sports & big ! football |\n",
      "Cluster 83: life love . , live ! music & us just\n",
      "Cluster 84: social worker . , justice & advocate | people president\n",
      "Cluster 85: student . , university engineering line_url college 📚 phd |\n",
      "Cluster 86: page official twitter . welcome , line_url : news follow\n",
      "Cluster 87: :) , . ! line_url just love / life happy\n",
      "Cluster 88: - . , / line_url & ️ | : (\n",
      "Cluster 89: 😍 ❤ ️ 😎 ♥ . , lover 😊 love\n",
      "Cluster 90: 🏀 ⚽ ️ 🏈 ⚾ 🎾 . 🏏 🏉 sports\n",
      "Cluster 91: : line_url ig . instagram @line_url , | & /\n",
      "Cluster 92: correspondent . , sports views @line_url line_url former news /\n",
      "Cluster 93: engineer software , . & cricket / | 💻 line_url\n",
      "Cluster 94: co-founder . , & / ceo | journalist line_url :\n",
      "Cluster 95: school . , high teacher & college education university independent\n",
      "Cluster 96: ' . , | & s line_url - ! :\n",
      "Cluster 97: / . , & : ️ ) ( | line_url\n",
      "Cluster 98: ... , line_url . ! just & .. living fan\n",
      "Cluster 99: का है । , ... ! 🇮🇳 🙏 | -\n"
     ]
    }
   ],
   "source": [
    "strongest_features(final_model, vec)"
   ]
  },
  {
   "attachments": {},
   "cell_type": "markdown",
   "metadata": {},
   "source": [
    "3. Pour un cluster donné, afficher quelques biographies et analyser les résultats. "
   ]
  },
  {
   "cell_type": "code",
   "execution_count": 80,
   "metadata": {},
   "outputs": [],
   "source": [
    "def cluster_sample(unique_bios, model, idx, preview=15):\n",
    "    \"\"\"\n",
    "    Helper function to display original user_description for\n",
    "    those users modeled in cluster n° `idx`.\n",
    "    \"\"\"\n",
    "    for i,idx in enumerate(np.where(model.labels_ == idx)[0]):\n",
    "        print(unique_bios[idx].replace('\\n',' '))\n",
    "        print()\n",
    "        if i > preview:\n",
    "            print('( >>> truncated preview <<< )')\n",
    "            break"
   ]
  },
  {
   "cell_type": "code",
   "execution_count": 90,
   "metadata": {},
   "outputs": [
    {
     "name": "stdout",
     "output_type": "stream",
     "text": [
      "Journalist, state-level boxer, CSKian, Madridista, traveller, photographer, biker, poet, chef, unapologetic coffee lover & meninist.\n",
      "\n",
      "Yogi, Azagarsamiyin Kudhirai, Mutthukku Mutthaka, Neerparavai, Oru Nadigaiyin Vakkumoolam, Kayal, Ivan Thanthiran,  Thirunaal, Sandakozhi 2, Seeru, Thaen\n",
      "\n",
      "#Motion is the Fastest growing Coaching Institute of #Kota. Leading Coaching Institute for #IITJEE, #NEET, #JEEMain, #JEEAdvanced #CBSE, #NTSE & #Olympiads\n",
      "\n",
      "Hello there, Greetings, Guten Tag, 您好。 Im 周問 Mr.H of 惡人theWeird  Writing, Musik, Nature, and ART, and etwas like that  Lets #DefyingGravity\n",
      "\n",
      "Sportsoholic, Consultant, Logistics, Supply Chain, Traveller, BasketBaller, Liverpool Fan, NITian turned IIMer\n",
      "\n",
      "Account of the Central African Republic Embassy to South Africa accredited to Angola, Mauritius, Mozambique, Namibia, Seychelles, New Zealand, Zambia & Zimbabwe\n",
      "\n",
      "A stuffed bunny. Observations are rarely my own, but my human's, on tennis, figureskating, cycling, equestrian, golf & music (baroque, opera, Russian, French).\n",
      "\n",
      "Andito na lahat ng trip nating sports! NBA, PBA, UAAP, PVL, FIBA, Gilas Pilipinas, ONE Championship, UFC, WWE, ESPN, The Nationals at marami pang iba!\n",
      "\n",
      "26-year professional #sportsbettingadvisor #JohnRyanSports1,#predictiveplaybook,#sportsbetting,#handicapperadvisor, #handicapper,#sportsmemo,#wagertalk\n",
      "\n",
      "Tennis fan (RF, Rafa, Andy, Nole, Stan, Marin, Delpo, John, Borna, Stefanos, Dominic, Matteo, Timea and many others) Enjoy simple moments\n",
      "\n",
      "punter, judoka, polyglot\n",
      "\n",
      "Fun Christian gal. Loves sports, crafts, music, Peanuts, friends/family, Reds, Buckeyes, skating, gymnastics, PD/Upstead, Densi, ThisIsUs, Timeless, Dawsey, MRJ\n",
      "\n",
      "💻: PA, @cbcolympics 🎤: PxP, @sauga960am ⚽ ✍️: @TheUndefeated, @justwsports, @TorontoStar, @USATODAY, @Complex, @Sportsnet, @Sinow, @GOLF_com, @raptorsrepublic\n",
      "\n",
      "Some of my favs: #BidenForFL, @SkinnygirlBrand, @HerUniverse, #gymternet, @MilkBarStore, @Yankees, @HGTV, @UCLAGymnastics\n",
      "\n",
      "I'm a Malaysian magician, trust me, magic is a miracle, not a lie\n",
      "\n",
      "Father, sports fan and co-founder with 5 mates of @loungeroomgm Wildcats, Patriots, Celtics, Red Sox, Bruins, Roosters, Blues, Man Utd, Juventus\n",
      "\n",
      "Backed by the 162-year-old legacy of Greaves, Ampere Electric Vehicles, is powering journeys with affordable, clean and smart electric mobility solutions.\n",
      "\n",
      "( >>> truncated preview <<< )\n"
     ]
    }
   ],
   "source": [
    "cluster_sample(unique_bios, model, 6)"
   ]
  },
  {
   "attachments": {},
   "cell_type": "markdown",
   "metadata": {},
   "source": [
    "## Itération"
   ]
  },
  {
   "attachments": {},
   "cell_type": "markdown",
   "metadata": {},
   "source": [
    "1. Le choix d'un modèle dépend beaucoup des hypothèses faites sur la répartition des données initiales. Quel serait le modèle le plus pertinent selon vous ? Vous pouvez vous référer à [la page d'acceuil scikit learn](https://scikit-learn.org/stable/modules/clustering.html). Réitérer le processus ci dessus avec le modèle choisi."
   ]
  },
  {
   "attachments": {},
   "cell_type": "markdown",
   "metadata": {},
   "source": [
    "2. Quelles améliorations pourrait-on faire sur le traitement des données ? "
   ]
  },
  {
   "attachments": {},
   "cell_type": "markdown",
   "metadata": {},
   "source": []
  }
 ],
 "metadata": {
  "kernelspec": {
   "display_name": ".venv",
   "language": "python",
   "name": "python3"
  },
  "language_info": {
   "codemirror_mode": {
    "name": "ipython",
    "version": 3
   },
   "file_extension": ".py",
   "mimetype": "text/x-python",
   "name": "python",
   "nbconvert_exporter": "python",
   "pygments_lexer": "ipython3",
   "version": "3.11.0"
  },
  "orig_nbformat": 4
 },
 "nbformat": 4,
 "nbformat_minor": 2
}
